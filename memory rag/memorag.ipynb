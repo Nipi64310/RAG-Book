{
 "cells": [
  {
   "cell_type": "markdown",
   "id": "88f6db64-19aa-4d76-bb08-d95b5cffe9fd",
   "metadata": {},
   "source": [
    "MemoryRAG 最新的有2个研究\n",
    "\n",
    "1. MemLong: Memory-Augmented Retrieval for Long Text Modeling\n",
    "    - 介绍博客： https://mp.weixin.qq.com/s/tLDSjRUdeafz0wc7xnUGvA\n",
    "    - 代码开源地址： https://github.com/Bui1dMySea/MemLong/tree/main\n",
    "\n",
    "\n",
    "2. MemoRAG: Moving towards Next-Gen RAG Via Memory-Inspired Knowledge Discovery\n",
    "    - 介绍博客：https://mp.weixin.qq.com/s/NEZUeaReTitXgaCSCDhd0Q\n",
    "    - 代码开源地址：https://github.com/qhjqhj00/MemoRAG/tree/main\n",
    "\n",
    "前者更多的是应付长文本处理的问题。\n",
    "\n",
    "更新中。。。"
   ]
  },
  {
   "cell_type": "code",
   "execution_count": null,
   "id": "52c18769-c0c4-4525-8b16-b310fe9f579b",
   "metadata": {},
   "outputs": [],
   "source": []
  },
  {
   "cell_type": "code",
   "execution_count": null,
   "id": "fe1d8e45-f56d-4efa-9dbd-f6cc4b8a0194",
   "metadata": {},
   "outputs": [],
   "source": []
  }
 ],
 "metadata": {
  "kernelspec": {
   "display_name": "Python 3 (ipykernel)",
   "language": "python",
   "name": "python3"
  },
  "language_info": {
   "codemirror_mode": {
    "name": "ipython",
    "version": 3
   },
   "file_extension": ".py",
   "mimetype": "text/x-python",
   "name": "python",
   "nbconvert_exporter": "python",
   "pygments_lexer": "ipython3",
   "version": "3.11.0rc2"
  }
 },
 "nbformat": 4,
 "nbformat_minor": 5
}
